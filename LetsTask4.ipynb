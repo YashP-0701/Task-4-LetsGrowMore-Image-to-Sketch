{
 "cells": [
  {
   "cell_type": "markdown",
   "source": [
    "# LetsGrowMore Data Science Internship (VIP)\r\n",
    "# Name: Yash Ajit Paddalwar\r\n",
    "# Level 01: Beginner\r\n",
    "# Task 04: Image to Pencil Sketch with Python\r\n"
   ],
   "metadata": {}
  },
  {
   "cell_type": "code",
   "execution_count": null,
   "source": [
    "# Importing Necessary Library\r\n",
    "import cv2\r\n",
    "\r\n",
    "# Reading the Image\r\n",
    "img = cv2.imread('lets.jpg')\r\n",
    "\r\n",
    "# Cinverting the Image into GrayScale\r\n",
    "gray = cv2.cvtColor(img,cv2.COLOR_BGR2GRAY)\r\n",
    "\r\n",
    "# Saving the Grayed Image\r\n",
    "cv2.imwrite(\"GrayED.jpg\",gray)\r\n",
    "\r\n",
    "#Showing the Grayed Image as Output\r\n",
    "cv2.imshow(\"GrayED\",gray)\r\n",
    "\r\n",
    "# Converting the Grayed Image into Inverted Image\r\n",
    "inverted = 255 - gray\r\n",
    "\r\n",
    "# Showing the Inverted Image as an Output\r\n",
    "cv2.imshow(\"Inverted\", inverted)\r\n",
    "\r\n",
    "# Blurring the Inverted Image using Gaussian Blur\r\n",
    "blur = cv2.GaussianBlur(inverted, (21, 21), 0)\r\n",
    "\r\n",
    "# Now Inverting the Blurred Image\r\n",
    "invertBlur = 255 - blur\r\n",
    "\r\n",
    "# Finally Combining the Subsequent Images into Sketch Variable\r\n",
    "sketch = cv2.divide(gray, invertBlur, scale=256.0)\r\n",
    "\r\n",
    "# Showing the Sketched Image\r\n",
    "cv2.imshow(\"Sketch\", sketch)\r\n",
    "\r\n",
    "# Saving the Sketched Image\r\n",
    "cv2.imwrite(\"Sketch.jpg\",sketch)\r\n",
    "\r\n",
    "# Terminating the Program\r\n",
    "cv2.waitKey(0)\r\n",
    "cv2.destroyAllWindows()\r\n"
   ],
   "outputs": [],
   "metadata": {}
  }
 ],
 "metadata": {
  "orig_nbformat": 4,
  "language_info": {
   "name": "python"
  }
 },
 "nbformat": 4,
 "nbformat_minor": 2
}